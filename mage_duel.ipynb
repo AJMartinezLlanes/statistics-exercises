{
 "cells": [
  {
   "cell_type": "markdown",
   "metadata": {},
   "source": [
    "## Mage Duel!\n",
    "Let's use what we've learned to play a mage duel!\n",
    "\n",
    "Imagine your wizard has 6d4 health points and you have spells that do 6d4 damage. \"6d4\" means rolling six 4-sided dice and summing the result.\n",
    "\n",
    "Your opposing mage has 4d6 health points and spells that do 4d6. \"4d6\" means rolling four six-sided dice and summing the result.\n",
    "\n",
    "### Exercises\n",
    "Simulate mage duels to answer who is the more powerful mage?\n",
    "\n",
    "- Before running simulations, do you have a hypothesis of which mage will win? Do you have a hunch? Write it down. This is your first exercise.\n",
    "- Simulate 10 mage duels. Is there a clear winner? Run that 10 duel simulation again. Was the answer similar?\n",
    "- Do the results change much at 100 duels?\n",
    "- Now, simulate 10,000 mage duels. Is there a clear winner?"
   ]
  },
  {
   "cell_type": "markdown",
   "metadata": {},
   "source": [
    "I think the opposing mage would win"
   ]
  },
  {
   "cell_type": "code",
   "execution_count": 2,
   "metadata": {},
   "outputs": [],
   "source": [
    "import numpy as np\n",
    "import pandas as pd\n"
   ]
  },
  {
   "cell_type": "code",
   "execution_count": 8,
   "metadata": {},
   "outputs": [
    {
     "data": {
      "text/plain": [
       "0    17\n",
       "1    14\n",
       "2    14\n",
       "3    14\n",
       "4    20\n",
       "5    19\n",
       "6    15\n",
       "7    15\n",
       "8    19\n",
       "9    15\n",
       "dtype: int64"
      ]
     },
     "execution_count": 8,
     "metadata": {},
     "output_type": "execute_result"
    }
   ],
   "source": [
    "# Imagine your wizard has 6d4 health points and you have spells that do 6d4 damage. \n",
    "# \"6d4\" means rolling six 4-sided dice and summing the result.\n",
    "\n",
    "n_trials = nrows = 10\n",
    "four_sided_dice = ncols = 6\n",
    "\n",
    "dice_rolls = pd.DataFrame(np.random.choice([1, 2, 3, 4], n_trials * four_sided_dice).reshape(nrows, ncols))\n",
    "dice_rolls.sum(axis=1)"
   ]
  },
  {
   "cell_type": "code",
   "execution_count": 9,
   "metadata": {},
   "outputs": [
    {
     "data": {
      "text/plain": [
       "0    12\n",
       "1    11\n",
       "2    15\n",
       "3    17\n",
       "4    15\n",
       "5    16\n",
       "6    12\n",
       "7    18\n",
       "8    15\n",
       "9    15\n",
       "dtype: int64"
      ]
     },
     "execution_count": 9,
     "metadata": {},
     "output_type": "execute_result"
    }
   ],
   "source": [
    "# Your opposing mage has 4d6 health points and spells that do 4d6. \n",
    "# \"4d6\" means rolling four six-sided dice and summing the result.\n",
    "six_dice = ncols = 4\n",
    "\n",
    "dice_rolls = pd.DataFrame(np.random.choice([1, 2, 3, 4, 5, 6], n_trials * six_dice).reshape(nrows, ncols))\n",
    "dice_rolls.sum(axis=1)"
   ]
  },
  {
   "cell_type": "code",
   "execution_count": null,
   "metadata": {},
   "outputs": [],
   "source": []
  }
 ],
 "metadata": {
  "interpreter": {
   "hash": "38cca0c38332a56087b24af0bc80247f4fced29cb4f7f437d91dc159adec9c4e"
  },
  "kernelspec": {
   "display_name": "Python 3.9.7 ('base')",
   "language": "python",
   "name": "python3"
  },
  "language_info": {
   "codemirror_mode": {
    "name": "ipython",
    "version": 3
   },
   "file_extension": ".py",
   "mimetype": "text/x-python",
   "name": "python",
   "nbconvert_exporter": "python",
   "pygments_lexer": "ipython3",
   "version": "3.9.7"
  },
  "orig_nbformat": 4
 },
 "nbformat": 4,
 "nbformat_minor": 2
}
