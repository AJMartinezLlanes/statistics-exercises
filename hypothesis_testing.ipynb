{
 "cells": [
  {
   "cell_type": "markdown",
   "metadata": {},
   "source": [
    "Do your work for this exercise in a jupyter notebook named hypothesis_testing.ipynb.\n",
    "\n",
    "For each of the following questions, formulate a null and alternative hypothesis (be as specific as you can be), then give an example of what a true positive, true negative, type I and type II errors would look like. \n",
    "Note that some of the questions are intentionally phrased in a vague way. \n",
    "It is your job to reword these as more precise questions that could be tested.\n"
   ]
  },
  {
   "cell_type": "markdown",
   "metadata": {},
   "source": [
    "# Has the network latency gone up since we switched internet service providers?\n",
    "\n",
    "### H0 Switching internet service provider (ISP) did not increase latency\n",
    "### H0 Switching ISP increase latency\n",
    "\n",
    "### True positive:\n",
    "- Testing throughout the day shows no change in network latency between ISPs\n",
    "### True negative:\n",
    "- Testing throughout the day shows an increase in network latency betwwwn ISPs\n",
    "### Type I:  \n",
    "- We thought testing will display similar resulst between ISPs, it did show an increase in latency\n",
    "### Type II: \n",
    "- We thought testing will display a latency increase between ISPs, it did not show any increase in latency"
   ]
  },
  {
   "cell_type": "markdown",
   "metadata": {},
   "source": [
    "\n",
    "# Is the website redesign any good?\n",
    "\n",
    "### H0 The website redesign will increase visitors and interactivity\n",
    "### H1 The wevsite redesign has no impact on the amount of visitors\n",
    "\n",
    "### True positive \n",
    "- There is an increase number of visitors and time spent in the redesigned website\n",
    "### True negative\n",
    "- There has been no change in the amount of visits to the website\n",
    "### Type I  \n",
    "- We thought visitors and time spent in the redesigned website would increase, but it has not changed\n",
    "### Type II \n",
    "- We though visitors to redesigned website would stay constant, however it has changed"
   ]
  },
  {
   "cell_type": "markdown",
   "metadata": {},
   "source": [
    "# Is our television ad driving more sales?\n",
    "\n",
    "### H0 TV adds have increased sales\n",
    "### H1 TV adds have not influenced the sales\n",
    "\n",
    "### True positive \n",
    "- TV adds have in fact increased sales of advertised products\n",
    "### True negative\n",
    "- TV adds have not influenced sales as there has been no incresed on advertised products\n",
    "### Type I  \n",
    "- We thought TV adds had increased sales, but they have not\n",
    "### Type II \n",
    "- We though TV adds had not influenced sales. but they in fact increased"
   ]
  },
  {
   "cell_type": "code",
   "execution_count": null,
   "metadata": {},
   "outputs": [],
   "source": []
  }
 ],
 "metadata": {
  "language_info": {
   "name": "python"
  },
  "orig_nbformat": 4
 },
 "nbformat": 4,
 "nbformat_minor": 2
}
