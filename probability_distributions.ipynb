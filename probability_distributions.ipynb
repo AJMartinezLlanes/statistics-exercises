{
 "cells": [
  {
   "cell_type": "code",
   "execution_count": 1,
   "metadata": {},
   "outputs": [],
   "source": [
    "import numpy as np\n",
    "import pandas as pd\n",
    "import matplotlib.pyplot as plt\n",
    "from scipy import stats"
   ]
  },
  {
   "cell_type": "markdown",
   "metadata": {},
   "source": [
    "1. A bank found that the average number of cars waiting during the noon hour at a drive-up window follows a Poisson distribution with a mean of 2 cars. Make a chart of this distribution and answer these questions concerning the probability of cars waiting at the drive-up window.\n",
    "\n",
    "- What is the probability that no cars drive up in the noon hour?\n",
    "- What is the probability that 3 or more cars come through the drive through?\n",
    "- How likely is it that the drive through gets at least 1 car?"
   ]
  },
  {
   "cell_type": "code",
   "execution_count": 219,
   "metadata": {},
   "outputs": [
    {
     "data": {
      "image/png": "[encoded data removed]",
      "text/plain": [
       "<Figure size 432x288 with 1 Axes>"
      ]
     },
     "metadata": {
      "needs_background": "light"
     },
     "output_type": "display_data"
    }
   ],
   "source": [
    "car_mean= 2\n",
    "x = np.arange(0,10)\n",
    "y = stats.poisson(car_mean).pmf(x)\n",
    "\n",
    "plt.bar(x,y)\n",
    "plt.title('Poisson Distribution with Mean of 2')\n",
    "plt.xlabel('Number of Cars')\n",
    "plt.ylabel('Probability')\n",
    "plt.show()"
   ]
  },
  {
   "cell_type": "code",
   "execution_count": 228,
   "metadata": {},
   "outputs": [
    {
     "name": "stdout",
     "output_type": "stream",
     "text": [
      "There is 13.53% chance no cars come through at noon\n",
      "There is 32.33% chance three or more cars come through\n",
      "There is 86.47% chance of at least one car will come through\n"
     ]
    }
   ],
   "source": [
    "# What is the probability that no cars drive up in the noon hour?\n",
    "no_cars_at_noon = stats.poisson(car_mean).pmf(0) * 100\n",
    "print(f\"There is {no_cars_at_noon.round(2)}% chance no cars come through at noon\")\n",
    "# What is the probability that 3 or more cars come through the drive through?\n",
    "three_or_more = stats.poisson(car_mean).sf(2) * 100\n",
    "print(f\"There is {three_or_more.round(2)}% chance three or more cars come through\")\n",
    "# How likely is it that the drive through gets at least 1 car?\n",
    "at_least1 = stats.poisson(car_mean).sf(0) * 100\n",
    "print(f\"There is {at_least1.round(2)}% chance of at least one car will come through\")"
   ]
  },
  {
   "cell_type": "code",
   "execution_count": 233,
   "metadata": {},
   "outputs": [
    {
     "name": "stdout",
     "output_type": "stream",
     "text": [
      "There is 13.51% chance no cars come through at noon\n",
      "There is 32.26% chance three or more cars come through\n",
      "There is 86.46% chance of at least one car will come through\n"
     ]
    }
   ],
   "source": [
    "no_cars_sim = (np.random.poisson(2,100_000) == 0).mean() *100\n",
    "print(f\"There is {no_cars_sim.round(2)}% chance no cars come through at noon\")\n",
    "three_or_more_sim = (np.random.poisson(2,100_000) >= 3).mean()*100\n",
    "print(f\"There is {three_or_more_sim.round(2)}% chance three or more cars come through\")\n",
    "at_least1_sim = (np.random.poisson(2,100_000) >0).mean() *100\n",
    "print(f\"There is {at_least1_sim.round(2)}% chance of at least one car will come through\")"
   ]
  },
  {
   "cell_type": "markdown",
   "metadata": {},
   "source": [
    "2. Grades of State University graduates are normally distributed with a mean of 3.0 and a standard deviation of .3. Calculate the following:\n",
    "\n",
    "- What grade point average is required to be in the top 5% of the graduating class?\n",
    "- What GPA constitutes the bottom 15% of the class?\n",
    "- An eccentric alumnus left scholarship money for students in the third decile from the bottom of their class. Determine the range of the third decile. Would a student with a 2.8 grade point average qualify for this scholarship?\n",
    "- If I have a GPA of 3.5, what percentile am I in?"
   ]
  },
  {
   "cell_type": "code",
   "execution_count": 244,
   "metadata": {},
   "outputs": [
    {
     "name": "stdout",
     "output_type": "stream",
     "text": [
      "Top 5% GPA is: 3.49\n",
      "Bottom 15% GPA is: 2.69\n",
      "Would a student with a 2.8 grade point average qualify for this scholarship? \n",
      "Third decile GPA Range is between 2.75 and 2.84. Yes! they qualify\n",
      "If I have a GPA of 3.5, what percentile am I in? Your in the 95.0th percentile\n"
     ]
    }
   ],
   "source": [
    "grade_mean = 3\n",
    "grade_sd = .3\n",
    "\n",
    "top_5_gpa = stats.norm(grade_mean, grade_sd).isf(.05)\n",
    "bottom_15_gpa = stats.norm(grade_mean, grade_sd).ppf(.15)\n",
    "third_decile = stats.norm(grade_mean, grade_sd).ppf([.20,.30])\n",
    "percentile_in = (stats.norm(grade_mean, grade_sd).cdf(3.5))*100\n",
    "\n",
    "print(f\"Top 5% GPA is: {top_5_gpa.round(2)}\")\n",
    "print(f\"Bottom 15% GPA is: {bottom_15_gpa.round(2)}\")\n",
    "print(f\"Would a student with a 2.8 grade point average qualify for this scholarship? \\nThird decile GPA Range is between {third_decile[0].round(2)} and {third_decile[1].round(2)}. Yes! they qualify\")\n",
    "print(f\"If I have a GPA of 3.5, what percentile am I in? Your in the {percentile_in.round()}th percentile\")"
   ]
  },
  {
   "cell_type": "code",
   "execution_count": 249,
   "metadata": {},
   "outputs": [
    {
     "name": "stdout",
     "output_type": "stream",
     "text": [
      "Top 5% GPA is: 3.49\n",
      "Bottom 15% GPA is: 2.69\n",
      "Would a student with a 2.8 grade point average qualify for this scholarship? \n",
      "Third decile GPA Range is between 2.75 and 2.84. Yes! they qualify\n",
      "If I have a GPA of 3.5, what percentile am I in? Your in the 95.0th percentile\n"
     ]
    }
   ],
   "source": [
    "gpa_trials = np.random.normal(grade_mean,grade_sd,100000)\n",
    "top_5_gpa_sim = np.percentile(gpa_trials, 95)\n",
    "bottom_15_gpa_sim = np.percentile(gpa_trials, 15)\n",
    "third_decile_sim = np.percentile(gpa_trials, [20,30])\n",
    "percentile_in_sim = 100-((gpa_trials >= 3.5).mean()*100)\n",
    "\n",
    "print(f\"Top 5% GPA is: {top_5_gpa_sim.round(2)}\")\n",
    "print(f\"Bottom 15% GPA is: {bottom_15_gpa_sim.round(2)}\")\n",
    "print(f\"Would a student with a 2.8 grade point average qualify for this scholarship? \\nThird decile GPA Range is between {third_decile_sim[0].round(2)} and {third_decile_sim[1].round(2)}. Yes! they qualify\")\n",
    "print(f\"If I have a GPA of 3.5, what percentile am I in? Your in the {percentile_in_sim.round()}th percentile\")"
   ]
  },
  {
   "cell_type": "markdown",
   "metadata": {},
   "source": [
    "3. A marketing website has an average click-through rate of 2%. One day they observe 4326 visitors and 97 click-throughs. How likely is it that this many people or more click through?"
   ]
  },
  {
   "cell_type": "code",
   "execution_count": 69,
   "metadata": {},
   "outputs": [
    {
     "name": "stdout",
     "output_type": "stream",
     "text": [
      "There is a 13.98% chance of more clicks\n"
     ]
    }
   ],
   "source": [
    "click_rate = .02\n",
    "tot_visitors = 4326\n",
    "tot_clicks = 97\n",
    "\n",
    "likely_to_click = stats.binom(tot_visitors,click_rate).sf(96)*100\n",
    "print(f\"There is a {likely_to_click.round(2)}% chance of more clicks\")"
   ]
  },
  {
   "cell_type": "code",
   "execution_count": 104,
   "metadata": {},
   "outputs": [
    {
     "name": "stdout",
     "output_type": "stream",
     "text": [
      "There is a 14.0% chance of more clicks\n"
     ]
    }
   ],
   "source": [
    "clicks_sim = np.random.choice([0,1],size=(10_000, 4326),p=(.98,.02))\n",
    "clicks_sim_percent = (clicks_sim.sum(axis=1) >=97).mean() *100\n",
    "print(f\"There is a {clicks_sim_percent.round(2)}% chance of more clicks\")"
   ]
  },
  {
   "cell_type": "markdown",
   "metadata": {},
   "source": [
    "4. You are working on some statistics homework consisting of 100 questions where all of the answers are a probability rounded to the hundreths place. Looking to save time, you put down random probabilities as the answer to each question.\n",
    "\n",
    "- What is the probability that at least one of your first 60 answers is correct?"
   ]
  },
  {
   "cell_type": "code",
   "execution_count": 106,
   "metadata": {},
   "outputs": [
    {
     "name": "stdout",
     "output_type": "stream",
     "text": [
      "There is a 45.28% you get 60 correct answers\n"
     ]
    }
   ],
   "source": [
    "prob_correct = 1/100\n",
    "n_correct = 60\n",
    "chance_correct = stats.binom(n_correct,prob_correct).sf(0)*100\n",
    "print(f\"There is a {chance_correct.round(2)}% you get 60 correct answers\")"
   ]
  },
  {
   "cell_type": "code",
   "execution_count": 128,
   "metadata": {},
   "outputs": [
    {
     "name": "stdout",
     "output_type": "stream",
     "text": [
      "There is a 45.28% you get 60 correct answers\n"
     ]
    }
   ],
   "source": [
    "chance_sim = np.random.choice( [0,1], size=(100_000, 60), p=(.99,.01))\n",
    "chance_sim_percent=(chance_sim.sum(axis=1) > 0).mean() *100\n",
    "print(f\"There is a {chance_sim_percent.round(2)}% you get 60 correct answers\")"
   ]
  },
  {
   "cell_type": "markdown",
   "metadata": {},
   "source": [
    "5. The codeup staff tends to get upset when the student break area is not cleaned up. Suppose that there's a 3% chance that any one student cleans the break area when they visit it, and, on any given day, about 90% of the 3 active cohorts of 22 students visit the break area. \n",
    "- How likely is it that the break area gets cleaned up each day? \n",
    "- How likely is it that it goes two days without getting cleaned up? \n",
    "- All week?"
   ]
  },
  {
   "cell_type": "code",
   "execution_count": 144,
   "metadata": {},
   "outputs": [
    {
     "name": "stdout",
     "output_type": "stream",
     "text": [
      "There is a 83.42% probability that the breakroom gets cleaned everyday\n",
      "There is a 2.75% probability that the breakroom does NOT get cleaned for 2 days\n",
      "There is a 0.01% probability that the breakroom does NOT get cleaned for a week\n"
     ]
    }
   ],
   "source": [
    "br_visitors = round(.9 * 3 * 22)\n",
    "prob_clean = .03\n",
    "\n",
    "clean_daily = stats.binom(br_visitors, prob_clean).sf(0)*100\n",
    "not_clean_2days = stats.binom(br_visitors * 2, prob_clean).pmf(0)*100\n",
    "not_clean_week = stats.binom(br_visitors * 5, prob_clean).pmf(0)*100\n",
    "\n",
    "print(f\"There is a {clean_daily.round(2)}% probability that the breakroom gets cleaned everyday\")\n",
    "print(f\"There is a {not_clean_2days.round(2)}% probability that the breakroom does NOT get cleaned for 2 days\")\n",
    "print(f\"There is a {not_clean_week.round(2)}% probability that the breakroom does NOT get cleaned for a week\")"
   ]
  },
  {
   "cell_type": "code",
   "execution_count": 158,
   "metadata": {},
   "outputs": [
    {
     "name": "stdout",
     "output_type": "stream",
     "text": [
      "There is a 83.36% probability that the breakroom gets cleaned everyday\n",
      "There is a 2.81% probability that the breakroom does NOT get cleaned for 2 days\n",
      "There is a 0.01% probability that the breakroom does NOT get cleaned for a week\n"
     ]
    }
   ],
   "source": [
    "clean_daily_sim = np.random.choice( [0,1], size=(100_000, br_visitors ), p=(.97,.03))\n",
    "sim_clean_daily = (clean_daily_sim.sum(axis=1) > 0).mean()*100\n",
    "\n",
    "not_clean_2days_sim = np.random.choice( [0,1], size=(100_000, br_visitors*2 ), p=(.97,.03))\n",
    "sim_not_clean_2days = (not_clean_2days_sim.sum(axis=1)==0).mean()*100\n",
    "\n",
    "not_clean_5days_sim = np.random.choice( [0,1], size=(100_000, br_visitors*5 ), p=(.97,.03))\n",
    "sim_not_clean_5days = (not_clean_5days_sim.sum(axis=1)==0).mean()*100\n",
    "\n",
    "print(f\"There is a {sim_clean_daily.round(2)}% probability that the breakroom gets cleaned everyday\")\n",
    "print(f\"There is a {sim_not_clean_2days.round(2)}% probability that the breakroom does NOT get cleaned for 2 days\")\n",
    "print(f\"There is a {sim_not_clean_5days.round(2)}% probability that the breakroom does NOT get cleaned for a week\")"
   ]
  },
  {
   "cell_type": "markdown",
   "metadata": {},
   "source": [
    "6. You want to get lunch at La Panaderia, but notice that the line is usually very long at lunchtime. After several weeks of careful observation, you notice that the average number of people in line when your lunch break starts is normally distributed with a mean of 15 and standard deviation of 3. If it takes 2 minutes for each person to order, and 10 minutes from ordering to getting your food.\n",
    "- What is the likelihood that you have at least 15 minutes left to eat your food before you have to go back to class? \n",
    "- Assume you have one hour for lunch, and ignore travel time to and from La Panaderia."
   ]
  },
  {
   "cell_type": "code",
   "execution_count": 163,
   "metadata": {},
   "outputs": [
    {
     "name": "stdout",
     "output_type": "stream",
     "text": [
      "There is a 69.15% chance to have 15 mins left to eat \n"
     ]
    }
   ],
   "source": [
    "pan_mean = 15 * 2\n",
    "pan_sd = 3 * 2\n",
    "eat_time = (60 - 15 - (2 + 10))\n",
    "\n",
    "eat_in_15 = stats.norm(pan_mean,pan_sd).cdf(eat_time) * 100\n",
    "print(f\"There is a {eat_in_15.round(2)}% chance to have 15 mins left to eat \")\n"
   ]
  },
  {
   "cell_type": "code",
   "execution_count": 170,
   "metadata": {},
   "outputs": [
    {
     "name": "stdout",
     "output_type": "stream",
     "text": [
      "There is a 69.21% chance to have 15 mins left to eat \n"
     ]
    }
   ],
   "source": [
    "eat_in_15_sim = (np.random.normal(pan_mean,pan_sd,100000) <= eat_time).mean() * 100\n",
    "print(f\"There is a {eat_in_15_sim.round(2)}% chance to have 15 mins left to eat \")"
   ]
  },
  {
   "cell_type": "markdown",
   "metadata": {},
   "source": [
    "7. Connect to the employees database and find the average salary of current employees, along with the standard deviation. For the following questions, calculate the answer based on modeling the employees salaries with a normal distribution defined by the calculated mean and standard deviation then compare this answer to the actual values present in the salaries dataset.\n",
    "\n",
    "- What percent of employees earn less than 60,000?\n",
    "- What percent of employees earn more than 95,000?\n",
    "- What percent of employees earn between 65,000 and 80,000?\n",
    "- What do the top 5% of employees make?"
   ]
  },
  {
   "cell_type": "code",
   "execution_count": 173,
   "metadata": {},
   "outputs": [],
   "source": [
    "from env import get_db_url"
   ]
  },
  {
   "cell_type": "code",
   "execution_count": 175,
   "metadata": {},
   "outputs": [],
   "source": [
    "url = get_db_url('employees')\n",
    "query = '''\n",
    "SELECT * from salaries WHERE to_date > NOW()\n",
    "'''\n",
    "\n",
    "salaries = pd.read_sql(query, url)"
   ]
  },
  {
   "cell_type": "code",
   "execution_count": 195,
   "metadata": {},
   "outputs": [
    {
     "name": "stdout",
     "output_type": "stream",
     "text": [
      "<class 'pandas.core.frame.DataFrame'>\n",
      "RangeIndex: 240124 entries, 0 to 240123\n",
      "Data columns (total 4 columns):\n",
      " #   Column     Non-Null Count   Dtype \n",
      "---  ------     --------------   ----- \n",
      " 0   emp_no     240124 non-null  int64 \n",
      " 1   salary     240124 non-null  int64 \n",
      " 2   from_date  240124 non-null  object\n",
      " 3   to_date    240124 non-null  object\n",
      "dtypes: int64(2), object(2)\n",
      "memory usage: 7.3+ MB\n"
     ]
    }
   ],
   "source": [
    "salaries.info()"
   ]
  },
  {
   "cell_type": "code",
   "execution_count": 180,
   "metadata": {},
   "outputs": [
    {
     "data": {
      "text/html": [
       "<div>\n",
       "<style scoped>\n",
       "    .dataframe tbody tr th:only-of-type {\n",
       "        vertical-align: middle;\n",
       "    }\n",
       "\n",
       "    .dataframe tbody tr th {\n",
       "        vertical-align: top;\n",
       "    }\n",
       "\n",
       "    .dataframe thead th {\n",
       "        text-align: right;\n",
       "    }\n",
       "</style>\n",
       "<table border=\"1\" class=\"dataframe\">\n",
       "  <thead>\n",
       "    <tr style=\"text-align: right;\">\n",
       "      <th></th>\n",
       "      <th>emp_no</th>\n",
       "      <th>salary</th>\n",
       "    </tr>\n",
       "  </thead>\n",
       "  <tbody>\n",
       "    <tr>\n",
       "      <th>count</th>\n",
       "      <td>240124.000000</td>\n",
       "      <td>240124.000000</td>\n",
       "    </tr>\n",
       "    <tr>\n",
       "      <th>mean</th>\n",
       "      <td>253080.615365</td>\n",
       "      <td>72012.235857</td>\n",
       "    </tr>\n",
       "    <tr>\n",
       "      <th>std</th>\n",
       "      <td>161853.087323</td>\n",
       "      <td>17309.995380</td>\n",
       "    </tr>\n",
       "    <tr>\n",
       "      <th>min</th>\n",
       "      <td>10001.000000</td>\n",
       "      <td>38623.000000</td>\n",
       "    </tr>\n",
       "    <tr>\n",
       "      <th>25%</th>\n",
       "      <td>84878.750000</td>\n",
       "      <td>59048.750000</td>\n",
       "    </tr>\n",
       "    <tr>\n",
       "      <th>50%</th>\n",
       "      <td>249792.500000</td>\n",
       "      <td>69805.000000</td>\n",
       "    </tr>\n",
       "    <tr>\n",
       "      <th>75%</th>\n",
       "      <td>424895.250000</td>\n",
       "      <td>82546.000000</td>\n",
       "    </tr>\n",
       "    <tr>\n",
       "      <th>max</th>\n",
       "      <td>499999.000000</td>\n",
       "      <td>158220.000000</td>\n",
       "    </tr>\n",
       "  </tbody>\n",
       "</table>\n",
       "</div>"
      ],
      "text/plain": [
       "              emp_no         salary\n",
       "count  240124.000000  240124.000000\n",
       "mean   253080.615365   72012.235857\n",
       "std    161853.087323   17309.995380\n",
       "min     10001.000000   38623.000000\n",
       "25%     84878.750000   59048.750000\n",
       "50%    249792.500000   69805.000000\n",
       "75%    424895.250000   82546.000000\n",
       "max    499999.000000  158220.000000"
      ]
     },
     "execution_count": 180,
     "metadata": {},
     "output_type": "execute_result"
    }
   ],
   "source": [
    "salaries.describe()"
   ]
  },
  {
   "cell_type": "code",
   "execution_count": 192,
   "metadata": {},
   "outputs": [
    {
     "data": {
      "text/plain": [
       "(72012.23585730705, 17309.99538025198)"
      ]
     },
     "execution_count": 192,
     "metadata": {},
     "output_type": "execute_result"
    }
   ],
   "source": [
    "sal_mean = salaries.salary.mean()\n",
    "sal_sd = salaries.salary.std()\n",
    "sal_mean, sal_sd"
   ]
  },
  {
   "cell_type": "code",
   "execution_count": 269,
   "metadata": {},
   "outputs": [
    {
     "name": "stdout",
     "output_type": "stream",
     "text": [
      "24.39% makes less than 60K\n",
      "9.21% makes more than 95K\n",
      "33.51% earn between 65K and 80k\n",
      "The top 5% makes $100484.64\n"
     ]
    }
   ],
   "source": [
    "percent_less60k = stats.norm(sal_mean, sal_sd).cdf(60_000) * 100\n",
    "percent_over95k = stats.norm(sal_mean, sal_sd).sf(95_000) * 100\n",
    "percent_between_65and80k = stats.norm(sal_mean, sal_sd).cdf(80_000) * 100 - stats.norm(sal_mean, sal_sd).cdf(65_000) * 100\n",
    "top_5 = stats.norm(sal_mean, sal_sd).isf(.05)\n",
    "print(f\"{percent_less60k.round(2)}% makes less than 60K\")\n",
    "print(f\"{percent_over95k.round(2)}% makes more than 95K\")\n",
    "print(f\"{percent_between_65and80k.round(2)}% earn between 65K and 80k\")\n",
    "print(f\"The top 5% makes ${top_5.round(2)}\")"
   ]
  },
  {
   "cell_type": "code",
   "execution_count": 272,
   "metadata": {},
   "outputs": [
    {
     "name": "stdout",
     "output_type": "stream",
     "text": [
      "24.33% makes less than 60K\n",
      "9.26% makes more than 95K\n",
      "33.43% earn between 65K and 80k\n",
      "The top 5% makes $100458.73\n"
     ]
    }
   ],
   "source": [
    "sal_trials = np.random.normal(sal_mean,sal_sd, 100_000)\n",
    "percent_less60k_sim = (sal_trials < 60_000).mean() * 100\n",
    "percent_over95k_sim =(sal_trials > 95_000).mean() * 100\n",
    "percent_between_65and80k_sim = ((sal_trials < 80_000).mean()*100) - ((sal_trials < 65_000).mean()*100)\n",
    "top_5_sim = np.percentile(sal_trials,95)\n",
    "\n",
    "print(f\"{percent_less60k_sim.round(2)}% makes less than 60K\")\n",
    "print(f\"{percent_over95k_sim.round(2)}% makes more than 95K\")\n",
    "print(f\"{percent_between_65and80k_sim.round(2)}% earn between 65K and 80k\")\n",
    "print(f\"The top 5% makes ${top_5_sim.round(2)}\")"
   ]
  }
 ],
 "metadata": {
  "interpreter": {
   "hash": "38cca0c38332a56087b24af0bc80247f4fced29cb4f7f437d91dc159adec9c4e"
  },
  "kernelspec": {
   "display_name": "Python 3.9.7 ('base')",
   "language": "python",
   "name": "python3"
  },
  "language_info": {
   "codemirror_mode": {
    "name": "ipython",
    "version": 3
   },
   "file_extension": ".py",
   "mimetype": "text/x-python",
   "name": "python",
   "nbconvert_exporter": "python",
   "pygments_lexer": "ipython3",
   "version": "3.9.7"
  },
  "orig_nbformat": 4
 },
 "nbformat": 4,
 "nbformat_minor": 2
}
