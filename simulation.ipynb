{
 "cells": [
  {
   "cell_type": "code",
   "execution_count": 1,
   "metadata": {},
   "outputs": [],
   "source": [
    "import numpy as np\n",
    "import pandas as pd\n"
   ]
  },
  {
   "cell_type": "markdown",
   "metadata": {},
   "source": [
    "1. How likely is it that you roll doubles when rolling two dice?"
   ]
  },
  {
   "cell_type": "code",
   "execution_count": 2,
   "metadata": {},
   "outputs": [
    {
     "data": {
      "text/plain": [
       "0.16678"
      ]
     },
     "execution_count": 2,
     "metadata": {},
     "output_type": "execute_result"
    }
   ],
   "source": [
    "n_trials = nrows = 100_000\n",
    "n_dice = ncols = 2\n",
    "\n",
    "dice_rolls = pd.DataFrame(np.random.choice([1, 2, 3, 4, 5, 6], n_trials * n_dice).reshape(nrows, ncols))\n",
    "doubles_roll = dice_rolls.apply(lambda dice: dice[0] == dice[1] in dice.values, axis=1)\n",
    "doubles_roll.mean()"
   ]
  },
  {
   "cell_type": "markdown",
   "metadata": {},
   "source": [
    "2. If you flip 8 coins, what is the probability of getting exactly 3 heads? What is the probability of getting more than 3 heads?"
   ]
  },
  {
   "cell_type": "code",
   "execution_count": 3,
   "metadata": {},
   "outputs": [
    {
     "data": {
      "text/plain": [
       "0.21903"
      ]
     },
     "execution_count": 3,
     "metadata": {},
     "output_type": "execute_result"
    }
   ],
   "source": [
    "n_trials = nrows = 100_000\n",
    "n_coins = ncols = 8\n",
    "flip = np.random.choice([0,1], n_trials * n_coins).reshape(nrows, ncols)\n",
    "\n",
    "sumbyflips = flip.sum(axis = 1)\n",
    "threeheads = sumbyflips == 3\n",
    "threeheads.mean()"
   ]
  },
  {
   "cell_type": "code",
   "execution_count": 4,
   "metadata": {},
   "outputs": [
    {
     "data": {
      "text/plain": [
       "0.63488"
      ]
     },
     "execution_count": 4,
     "metadata": {},
     "output_type": "execute_result"
    }
   ],
   "source": [
    "# What is the probability of getting more than 3 heads?\n",
    "morethan_threeheads = sumbyflips > 3\n",
    "morethan_threeheads.mean()"
   ]
  },
  {
   "cell_type": "markdown",
   "metadata": {},
   "source": [
    "3. There are approximitely 3 web development cohorts for every 1 data science cohort at Codeup. Assuming that Codeup randomly selects an alumni to put on a billboard, what are the odds that the two billboards I drive past both have data science students on them?"
   ]
  },
  {
   "cell_type": "code",
   "execution_count": 5,
   "metadata": {},
   "outputs": [
    {
     "data": {
      "text/plain": [
       "0.06179"
      ]
     },
     "execution_count": 5,
     "metadata": {},
     "output_type": "execute_result"
    }
   ],
   "source": [
    "n_sims = 100_000\n",
    "n_billboards  = 2\n",
    "\n",
    "codeup_bb = np.random.random((n_sims,n_billboards)) <= .25\n",
    "n_bb = codeup_bb.sum(axis=1)\n",
    "ds_n_bb = n_bb == 2\n",
    "ds_n_bb.mean()\n"
   ]
  },
  {
   "cell_type": "markdown",
   "metadata": {},
   "source": [
    "4. Codeup students buy, on average, 3 poptart packages with a standard deviation of 1.5 a day from the snack vending machine. If on monday the machine is restocked with 17 poptart packages, how likely is it that I will be able to buy some poptarts on Friday afternoon? (Remember, if you have mean and standard deviation, use the np.random.normal)"
   ]
  },
  {
   "cell_type": "code",
   "execution_count": 35,
   "metadata": {},
   "outputs": [
    {
     "data": {
      "text/plain": [
       "0.87884"
      ]
     },
     "execution_count": 35,
     "metadata": {},
     "output_type": "execute_result"
    }
   ],
   "source": [
    "n_sims = 100_000\n",
    "n_days = 5\n",
    "\n",
    "sims = np.random.normal(3 , 1.5, n_sims * n_days).reshape(n_sims, n_days).astype(int)\n",
    "poptarts_left = sims.sum(axis=1) < 17\n",
    "poptarts_left.mean()"
   ]
  },
  {
   "cell_type": "markdown",
   "metadata": {},
   "source": [
    "5. Compare Heights\n",
    "\n",
    "- Men have an average height of 178 cm and standard deviation of 8cm\n",
    "- Women have a mean of 170, sd = 6cm.\n",
    "- Since you have means and standard deviations, you can use np.random.normal to generate observations.\n",
    "- If a man and woman are chosen at random, P(woman taller than man)?"
   ]
  },
  {
   "cell_type": "code",
   "execution_count": 38,
   "metadata": {},
   "outputs": [
    {
     "data": {
      "text/plain": [
       "0.2114"
      ]
     },
     "execution_count": 38,
     "metadata": {},
     "output_type": "execute_result"
    }
   ],
   "source": [
    "male = np.random.normal(178, 8 ,100000)\n",
    "female = np.random.normal(170, 6 ,100000)\n",
    "\n",
    "woman_taller = female > male\n",
    "woman_taller.mean()"
   ]
  },
  {
   "cell_type": "markdown",
   "metadata": {},
   "source": [
    "6. When installing anaconda on a student's computer, there's a 1 in 250 chance that the download is corrupted and the installation fails.\n",
    "- What are the odds that after having 50 students download anaconda, no one has an installation issue? \n",
    "- 100 students? \n",
    "- What is the probability that we observe an installation issue within the first 150 students that download anaconda? \n",
    "- How likely is it that 450 students all download anaconda without an issue?"
   ]
  },
  {
   "cell_type": "code",
   "execution_count": 51,
   "metadata": {},
   "outputs": [
    {
     "data": {
      "text/plain": [
       "0.81747"
      ]
     },
     "execution_count": 51,
     "metadata": {},
     "output_type": "execute_result"
    }
   ],
   "source": [
    "# What are the odds that after having 50 students download anaconda, no one has an installation issue? \n",
    "\n",
    "n_sims = 100_000   \n",
    "n_students = 50\n",
    "# Probability 1/250 = .004\n",
    "\n",
    "trials = np.random.random((n_sims, n_students))\n",
    "download_issue = trials < .004\n",
    "prob_no_issue = (download_issue.sum(axis = 1) == 0).mean()\n",
    "prob_no_issue"
   ]
  },
  {
   "cell_type": "code",
   "execution_count": 52,
   "metadata": {},
   "outputs": [
    {
     "data": {
      "text/plain": [
       "0.66973"
      ]
     },
     "execution_count": 52,
     "metadata": {},
     "output_type": "execute_result"
    }
   ],
   "source": [
    "# 100 students? \n",
    "n_sims = 100_000   \n",
    "n_students = 100\n",
    "# Probability 1/250 = .004\n",
    "\n",
    "trials = np.random.random((n_sims, n_students))\n",
    "download_issue = trials < .004\n",
    "prob_no_issue = (download_issue.sum(axis = 1) == 0).mean()\n",
    "prob_no_issue"
   ]
  },
  {
   "cell_type": "code",
   "execution_count": 54,
   "metadata": {},
   "outputs": [
    {
     "data": {
      "text/plain": [
       "0.45086"
      ]
     },
     "execution_count": 54,
     "metadata": {},
     "output_type": "execute_result"
    }
   ],
   "source": [
    "# What is the probability that we observe an installation issue within the first 150 students that download anaconda\n",
    "n_sims = 100_000   \n",
    "n_students = 150\n",
    "# Probability 1/250 = .004\n",
    "\n",
    "trials = np.random.random((n_sims, n_students))\n",
    "download_issue = trials < .004\n",
    "prob_of_issue = (download_issue.sum(axis = 1) > 0).mean()\n",
    "prob_of_issue"
   ]
  },
  {
   "cell_type": "code",
   "execution_count": 57,
   "metadata": {},
   "outputs": [
    {
     "data": {
      "text/plain": [
       "0.16609"
      ]
     },
     "execution_count": 57,
     "metadata": {},
     "output_type": "execute_result"
    }
   ],
   "source": [
    "# How likely is it that 450 students all download anaconda without an issue?\n",
    "\n",
    "n_sims = 100_000   \n",
    "n_students = 450\n",
    "# Probability 1/250 = .004\n",
    "\n",
    "trials = np.random.random((n_sims, n_students))\n",
    "download_issue = trials < .004\n",
    "prob_no_issue = (download_issue.sum(axis = 1) == 0).mean()\n",
    "prob_no_issue"
   ]
  },
  {
   "cell_type": "markdown",
   "metadata": {},
   "source": [
    "7. There's a 70% chance on any given day that there will be at least one food truck at Travis Park. However, you haven't seen a food truck there in 3 days. \n",
    "- How unlikely is this? \n",
    "- How likely is it that a food truck will show up sometime this week?"
   ]
  },
  {
   "cell_type": "code",
   "execution_count": 61,
   "metadata": {},
   "outputs": [
    {
     "data": {
      "text/plain": [
       "0.02598"
      ]
     },
     "execution_count": 61,
     "metadata": {},
     "output_type": "execute_result"
    }
   ],
   "source": [
    "n_sims = 100_000   \n",
    "n_days = 3\n",
    "prob = .70\n",
    "\n",
    "trials = np.random.random((n_sims, n_days))\n",
    "prob_truck = trials < prob\n",
    "prob_no_show = (prob_truck.sum(axis = 1) == 0).mean()\n",
    "prob_no_show"
   ]
  },
  {
   "cell_type": "code",
   "execution_count": 65,
   "metadata": {},
   "outputs": [
    {
     "data": {
      "text/plain": [
       "0.99166"
      ]
     },
     "execution_count": 65,
     "metadata": {},
     "output_type": "execute_result"
    }
   ],
   "source": [
    "# 4 days left of this week\n",
    "n_sims = 100_000   \n",
    "n_days = 4\n",
    "prob = .70\n",
    "trials = np.random.random((n_sims, n_days))\n",
    "prob_truck = trials < prob\n",
    "prob_truck_show = (prob_truck.sum(axis = 1) > 0).mean()\n",
    "prob_truck_show"
   ]
  },
  {
   "cell_type": "code",
   "execution_count": 64,
   "metadata": {},
   "outputs": [
    {
     "data": {
      "text/plain": [
       "0.99986"
      ]
     },
     "execution_count": 64,
     "metadata": {},
     "output_type": "execute_result"
    }
   ],
   "source": [
    "# regular 7 day week probabilities\n",
    "n_sims = 100_000   \n",
    "n_days = 7\n",
    "prob = .70\n",
    "trials = np.random.random((n_sims, n_days))\n",
    "prob_truck = trials < prob\n",
    "prob_truck_show = (prob_truck.sum(axis = 1) > 0).mean()\n",
    "prob_truck_show"
   ]
  },
  {
   "cell_type": "markdown",
   "metadata": {},
   "source": [
    "8. If 23 people are in the same room, what are the odds that two of them share a birthday? What if it's 20 people? 40?"
   ]
  },
  {
   "cell_type": "code",
   "execution_count": 96,
   "metadata": {},
   "outputs": [
    {
     "data": {
      "text/plain": [
       "0.50928"
      ]
     },
     "execution_count": 96,
     "metadata": {},
     "output_type": "execute_result"
    }
   ],
   "source": [
    "n_sims = 100_000   \n",
    "n_ppl = 23\n",
    "\n",
    "trials = pd.DataFrame( np.random.randint(1,365, size= (n_sims,n_ppl)).reshape(n_sims, n_ppl))\n",
    "share_bdays = trials.nunique(axis=1) < n_ppl\n",
    "share_bdays.mean()"
   ]
  },
  {
   "cell_type": "code",
   "execution_count": 97,
   "metadata": {},
   "outputs": [
    {
     "data": {
      "text/plain": [
       "0.41076"
      ]
     },
     "execution_count": 97,
     "metadata": {},
     "output_type": "execute_result"
    }
   ],
   "source": [
    "# 20 people\n",
    "n_sims = 100_000   \n",
    "n_ppl = 20\n",
    "\n",
    "trials = pd.DataFrame( np.random.randint(1,365, size= (n_sims,n_ppl)).reshape(n_sims, n_ppl))\n",
    "share_bdays = trials.nunique(axis=1) < n_ppl\n",
    "share_bdays.mean()"
   ]
  },
  {
   "cell_type": "code",
   "execution_count": 98,
   "metadata": {},
   "outputs": [
    {
     "data": {
      "text/plain": [
       "0.8908"
      ]
     },
     "execution_count": 98,
     "metadata": {},
     "output_type": "execute_result"
    }
   ],
   "source": [
    "# 40 people\n",
    "n_sims = 100_000   \n",
    "n_ppl = 40\n",
    "\n",
    "trials = pd.DataFrame( np.random.randint(1,365, size= (n_sims,n_ppl)).reshape(n_sims, n_ppl))\n",
    "share_bdays = trials.nunique(axis=1) < n_ppl\n",
    "share_bdays.mean()"
   ]
  },
  {
   "cell_type": "code",
   "execution_count": null,
   "metadata": {},
   "outputs": [],
   "source": []
  }
 ],
 "metadata": {
  "interpreter": {
   "hash": "38cca0c38332a56087b24af0bc80247f4fced29cb4f7f437d91dc159adec9c4e"
  },
  "kernelspec": {
   "display_name": "Python 3.9.7 ('base')",
   "language": "python",
   "name": "python3"
  },
  "language_info": {
   "codemirror_mode": {
    "name": "ipython",
    "version": 3
   },
   "file_extension": ".py",
   "mimetype": "text/x-python",
   "name": "python",
   "nbconvert_exporter": "python",
   "pygments_lexer": "ipython3",
   "version": "3.9.7"
  },
  "orig_nbformat": 4
 },
 "nbformat": 4,
 "nbformat_minor": 2
}
